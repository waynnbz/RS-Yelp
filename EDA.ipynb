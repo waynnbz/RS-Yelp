{
 "cells": [
  {
   "cell_type": "code",
   "execution_count": 1,
   "metadata": {},
   "outputs": [],
   "source": [
    "import json\n",
    "import pandas as pd\n",
    "import matplotlib.pyplot as plt\n",
    "%matplotlib inline"
   ]
  },
  {
   "cell_type": "code",
   "execution_count": 2,
   "metadata": {},
   "outputs": [],
   "source": [
    "bizPATH = 'data/yelp_dataset/yelp_academic_dataset_business.json'\n",
    "revPATH = 'data/yelp_dataset/yelp_academic_dataset_review.json'"
   ]
  },
  {
   "cell_type": "code",
   "execution_count": 34,
   "metadata": {},
   "outputs": [],
   "source": [
    "infile = open(bizPATH)\n",
    "data = json.loads(infile.readline())"
   ]
  },
  {
   "cell_type": "code",
   "execution_count": 29,
   "metadata": {},
   "outputs": [
    {
     "data": {
      "text/plain": [
       "True"
      ]
     },
     "execution_count": 29,
     "metadata": {},
     "output_type": "execute_result"
    }
   ],
   "source": []
  },
  {
   "cell_type": "code",
   "execution_count": 25,
   "metadata": {},
   "outputs": [
    {
     "data": {
      "text/plain": [
       "'{\"business_id\":\"f9NumwFMBDn751xgFiRbNA\",\"name\":\"The Range At Lake Norman\",\"address\":\"10913 Bailey Rd\",\"city\":\"Cornelius\",\"state\":\"NC\",\"postal_code\":\"28031\",\"latitude\":35.4627242,\"longitude\":-80.8526119,\"stars\":3.5,\"review_count\":36,\"is_open\":1,\"attributes\":{\"BusinessAcceptsCreditCards\":\"True\",\"BikeParking\":\"True\",\"GoodForKids\":\"False\",\"BusinessParking\":\"{\\'garage\\': False, \\'street\\': False, \\'validated\\': False, \\'lot\\': True, \\'valet\\': False}\",\"ByAppointmentOnly\":\"False\",\"RestaurantsPriceRange2\":\"3\"},\"categories\":\"Active Life, Gun\\\\/Rifle Ranges, Guns & Ammo, Shopping\",\"hours\":{\"Monday\":\"10:0-18:0\",\"Tuesday\":\"11:0-20:0\",\"Wednesday\":\"10:0-18:0\",\"Thursday\":\"11:0-20:0\",\"Friday\":\"11:0-20:0\",\"Saturday\":\"11:0-20:0\",\"Sunday\":\"13:0-18:0\"}}\\n'"
      ]
     },
     "execution_count": 25,
     "metadata": {},
     "output_type": "execute_result"
    }
   ],
   "source": []
  },
  {
   "cell_type": "code",
   "execution_count": 35,
   "metadata": {},
   "outputs": [],
   "source": [
    "# first extracting all the biz id within 'bar' category and save it into a dict\n",
    "# because dict is implemented in hashtable with mostly O(1) look up time\n",
    "\n",
    "def bizCatFilter(path, cat = 'bar'):\n",
    "\n",
    "    bizID = {}\n",
    "\n",
    "    with open(path, 'r') as infile:\n",
    "        for line in infile:\n",
    "            data = json.loads(line)\n",
    "            if data['categories']:\n",
    "                if cat.lower() in data['categories'].lower():\n",
    "#                     if data['review_counts'] >=5\n",
    "                    bizID[data['business_id']] = data['review_count']\n",
    "    return bizID"
   ]
  },
  {
   "cell_type": "code",
   "execution_count": 36,
   "metadata": {},
   "outputs": [],
   "source": [
    "bizID = bizCatFilter(bizPATH, 'bar')"
   ]
  },
  {
   "cell_type": "code",
   "execution_count": 102,
   "metadata": {},
   "outputs": [
    {
     "data": {
      "text/plain": [
       "15344"
      ]
     },
     "execution_count": 102,
     "metadata": {},
     "output_type": "execute_result"
    }
   ],
   "source": [
    "sum([x >= 10 for x in list(bizID.values())])"
   ]
  },
  {
   "cell_type": "code",
   "execution_count": null,
   "metadata": {},
   "outputs": [],
   "source": []
  },
  {
   "cell_type": "code",
   "execution_count": null,
   "metadata": {},
   "outputs": [],
   "source": []
  },
  {
   "cell_type": "code",
   "execution_count": null,
   "metadata": {},
   "outputs": [],
   "source": []
  },
  {
   "cell_type": "code",
   "execution_count": 74,
   "metadata": {},
   "outputs": [],
   "source": [
    "# def readBiz(path):\n",
    "    \n",
    "#     biz = list()\n",
    "#     with open(path, 'r') as infile:\n",
    "# #         for i, line in enumerate(infile):\n",
    "#     #         if i%(stop)==0:\n",
    "#     #             print(i)\n",
    "#     #         if i == stop:\n",
    "#     #             break\n",
    "#         for line in infile:\n",
    "#             try:\n",
    "#                 data = json.loads(line)\n",
    "#             except Exception as e:\n",
    "#                 print(e)\n",
    "\n",
    "            \n",
    "#             if(data['business_id'] in bizID):\n",
    "\n",
    "#                 review_id = data['review_id']\n",
    "#                 user_id = data['user_id']\n",
    "#                 business_id = data['business_id']\n",
    "#                 stars = data['stars']\n",
    "#                 date = data['date']\n",
    "#                 text = data['text']\n",
    "#                 useful = data['useful']\n",
    "#                 funny = data['funny']\n",
    "#                 cool = data['cool']\n",
    "\n",
    "#                 reviews.append([review_id, user_id, business_id, stars, date, text, useful, funny, cool])\n",
    "\n",
    "\n",
    "#     df = pd.DataFrame(reviews, columns = ['review_id', 'user_id', 'business_id', 'stars', 'date', 'text', 'useful', 'funny', 'cool'])\n",
    "#     df.date = pd.to_datetime(df.date)    "
   ]
  },
  {
   "cell_type": "code",
   "execution_count": 101,
   "metadata": {},
   "outputs": [
    {
     "data": {
      "text/plain": [
       "<AxesSubplot:>"
      ]
     },
     "execution_count": 101,
     "metadata": {},
     "output_type": "execute_result"
    },
    {
     "data": {
      "image/png": "[encoded data removed]",
      "text/plain": [
       "<Figure size 864x432 with 1 Axes>"
      ]
     },
     "metadata": {
      "needs_background": "light"
     },
     "output_type": "display_data"
    }
   ],
   "source": [
    "cat_list = ['bar', 'health', 'edu', 'real estate', 'accountants', 'pet', 'entertain', 'hotel', 'food']\n",
    "\n",
    "cat_counts = list()\n",
    "\n",
    "for c in cat_list:\n",
    "    cat_counts.append(len(bizCatFilter(bizPATH, c)))\n",
    "    \n",
    "df = pd.DataFrame(cat_counts, index = cat_list)\n",
    "df.plot(figsize=(12,6))"
   ]
  },
  {
   "cell_type": "code",
   "execution_count": 102,
   "metadata": {},
   "outputs": [],
   "source": [
    "bizID = bizCatFilter(bizPATH, 'bar')"
   ]
  },
  {
   "cell_type": "code",
   "execution_count": 117,
   "metadata": {},
   "outputs": [
    {
     "data": {
      "text/plain": [
       "True"
      ]
     },
     "execution_count": 117,
     "metadata": {},
     "output_type": "execute_result"
    }
   ],
   "source": [
    "list(bizID.keys())[0] in bizID"
   ]
  },
  {
   "cell_type": "code",
   "execution_count": 114,
   "metadata": {},
   "outputs": [
    {
     "data": {
      "text/plain": [
       "'DCsS3SgVFO56F6wRO_ewgA'"
      ]
     },
     "execution_count": 114,
     "metadata": {},
     "output_type": "execute_result"
    }
   ],
   "source": [
    "list(bizID.keys())[0]"
   ]
  },
  {
   "cell_type": "code",
   "execution_count": 75,
   "metadata": {
    "scrolled": true
   },
   "outputs": [],
   "source": [
    "path = revPATH\n",
    "# stop = 100000\n",
    "\n",
    "reviews = list()\n",
    "with open(path, 'r') as infile:\n",
    "    for i, line in enumerate(infile):\n",
    "#         if i%(stop)==0:\n",
    "#             print(i)\n",
    "#         if i == stop:\n",
    "#             break\n",
    "            \n",
    "        data = json.loads(line)\n",
    "        \n",
    "        if(data['business_id'] in bizID):\n",
    "            \n",
    "            review_id = data['review_id']\n",
    "            user_id = data['user_id']\n",
    "            business_id = data['business_id']\n",
    "            stars = data['stars']\n",
    "            date = data['date']\n",
    "            text = data['text']\n",
    "            useful = data['useful']\n",
    "            funny = data['funny']\n",
    "            cool = data['cool']\n",
    "            \n",
    "            reviews.append([review_id, user_id, business_id, stars, date, text, useful, funny, cool])\n",
    "            \n",
    "\n",
    "df = pd.DataFrame(reviews, columns = ['review_id', 'user_id', 'business_id', 'stars', 'date', 'text', 'useful', 'funny', 'cool'])\n",
    "df.date = pd.to_datetime(df.date)            "
   ]
  },
  {
   "cell_type": "code",
   "execution_count": 76,
   "metadata": {},
   "outputs": [
    {
     "name": "stdout",
     "output_type": "stream",
     "text": [
      "bizID: 20946\n",
      "userID: 818072\n",
      "reviews: 2021447\n"
     ]
    }
   ],
   "source": [
    "print(f'bizID: {len(bizID)}')\n",
    "print(f'userID: {df.user_id.nunique()}')\n",
    "print(f'reviews: {df.shape[0]}')\n"
   ]
  },
  {
   "cell_type": "code",
   "execution_count": 132,
   "metadata": {},
   "outputs": [
    {
     "data": {
      "text/html": [
       "<div>\n",
       "<style scoped>\n",
       "    .dataframe tbody tr th:only-of-type {\n",
       "        vertical-align: middle;\n",
       "    }\n",
       "\n",
       "    .dataframe tbody tr th {\n",
       "        vertical-align: top;\n",
       "    }\n",
       "\n",
       "    .dataframe thead th {\n",
       "        text-align: right;\n",
       "    }\n",
       "</style>\n",
       "<table border=\"1\" class=\"dataframe\">\n",
       "  <thead>\n",
       "    <tr style=\"text-align: right;\">\n",
       "      <th></th>\n",
       "      <th>stars</th>\n",
       "      <th>useful</th>\n",
       "      <th>funny</th>\n",
       "      <th>cool</th>\n",
       "    </tr>\n",
       "  </thead>\n",
       "  <tbody>\n",
       "    <tr>\n",
       "      <th>count</th>\n",
       "      <td>2.021447e+06</td>\n",
       "      <td>2.021447e+06</td>\n",
       "      <td>2.021447e+06</td>\n",
       "      <td>2.021447e+06</td>\n",
       "    </tr>\n",
       "    <tr>\n",
       "      <th>mean</th>\n",
       "      <td>3.779197e+00</td>\n",
       "      <td>1.127222e+00</td>\n",
       "      <td>4.542553e-01</td>\n",
       "      <td>5.991282e-01</td>\n",
       "    </tr>\n",
       "    <tr>\n",
       "      <th>std</th>\n",
       "      <td>1.378417e+00</td>\n",
       "      <td>3.050826e+00</td>\n",
       "      <td>1.881907e+00</td>\n",
       "      <td>2.453796e+00</td>\n",
       "    </tr>\n",
       "    <tr>\n",
       "      <th>min</th>\n",
       "      <td>1.000000e+00</td>\n",
       "      <td>0.000000e+00</td>\n",
       "      <td>0.000000e+00</td>\n",
       "      <td>0.000000e+00</td>\n",
       "    </tr>\n",
       "    <tr>\n",
       "      <th>25%</th>\n",
       "      <td>3.000000e+00</td>\n",
       "      <td>0.000000e+00</td>\n",
       "      <td>0.000000e+00</td>\n",
       "      <td>0.000000e+00</td>\n",
       "    </tr>\n",
       "    <tr>\n",
       "      <th>50%</th>\n",
       "      <td>4.000000e+00</td>\n",
       "      <td>0.000000e+00</td>\n",
       "      <td>0.000000e+00</td>\n",
       "      <td>0.000000e+00</td>\n",
       "    </tr>\n",
       "    <tr>\n",
       "      <th>75%</th>\n",
       "      <td>5.000000e+00</td>\n",
       "      <td>1.000000e+00</td>\n",
       "      <td>0.000000e+00</td>\n",
       "      <td>1.000000e+00</td>\n",
       "    </tr>\n",
       "    <tr>\n",
       "      <th>max</th>\n",
       "      <td>5.000000e+00</td>\n",
       "      <td>2.570000e+02</td>\n",
       "      <td>2.910000e+02</td>\n",
       "      <td>2.030000e+02</td>\n",
       "    </tr>\n",
       "  </tbody>\n",
       "</table>\n",
       "</div>"
      ],
      "text/plain": [
       "              stars        useful         funny          cool\n",
       "count  2.021447e+06  2.021447e+06  2.021447e+06  2.021447e+06\n",
       "mean   3.779197e+00  1.127222e+00  4.542553e-01  5.991282e-01\n",
       "std    1.378417e+00  3.050826e+00  1.881907e+00  2.453796e+00\n",
       "min    1.000000e+00  0.000000e+00  0.000000e+00  0.000000e+00\n",
       "25%    3.000000e+00  0.000000e+00  0.000000e+00  0.000000e+00\n",
       "50%    4.000000e+00  0.000000e+00  0.000000e+00  0.000000e+00\n",
       "75%    5.000000e+00  1.000000e+00  0.000000e+00  1.000000e+00\n",
       "max    5.000000e+00  2.570000e+02  2.910000e+02  2.030000e+02"
      ]
     },
     "execution_count": 132,
     "metadata": {},
     "output_type": "execute_result"
    }
   ],
   "source": [
    "df.describe()"
   ]
  },
  {
   "cell_type": "code",
   "execution_count": 140,
   "metadata": {},
   "outputs": [
    {
     "data": {
      "text/plain": [
       "<AxesSubplot:>"
      ]
     },
     "execution_count": 140,
     "metadata": {},
     "output_type": "execute_result"
    },
    {
     "data": {
      "image/png": "[encoded data removed]",
      "text/plain": [
       "<Figure size 432x288 with 1 Axes>"
      ]
     },
     "metadata": {
      "needs_background": "light"
     },
     "output_type": "display_data"
    }
   ],
   "source": [
    "df.date.hist(bins = 100)"
   ]
  },
  {
   "cell_type": "code",
   "execution_count": 137,
   "metadata": {},
   "outputs": [
    {
     "data": {
      "text/plain": [
       "<AxesSubplot:>"
      ]
     },
     "execution_count": 137,
     "metadata": {},
     "output_type": "execute_result"
    },
    {
     "data": {
      "image/png": "[encoded data removed]",
      "text/plain": [
       "<Figure size 432x288 with 1 Axes>"
      ]
     },
     "metadata": {
      "needs_background": "light"
     },
     "output_type": "display_data"
    }
   ],
   "source": [
    "df.stars.hist(range=(0.5, 5.5), bins =5)"
   ]
  },
  {
   "cell_type": "code",
   "execution_count": 158,
   "metadata": {},
   "outputs": [
    {
     "data": {
      "text/plain": [
       "<AxesSubplot:>"
      ]
     },
     "execution_count": 158,
     "metadata": {},
     "output_type": "execute_result"
    },
    {
     "data": {
      "image/png": "[encoded data removed]",
      "text/plain": [
       "<Figure size 432x288 with 1 Axes>"
      ]
     },
     "metadata": {
      "needs_background": "light"
     },
     "output_type": "display_data"
    }
   ],
   "source": [
    "df.user_id.value_counts().hist(range=[5,20],bins = 10)"
   ]
  },
  {
   "cell_type": "code",
   "execution_count": 168,
   "metadata": {},
   "outputs": [
    {
     "data": {
      "text/plain": [
       "59449"
      ]
     },
     "execution_count": 168,
     "metadata": {},
     "output_type": "execute_result"
    }
   ],
   "source": [
    "(df.user_id.value_counts() > 5).sum()"
   ]
  },
  {
   "cell_type": "code",
   "execution_count": 188,
   "metadata": {},
   "outputs": [
    {
     "data": {
      "text/plain": [
       "13811"
      ]
     },
     "execution_count": 188,
     "metadata": {},
     "output_type": "execute_result"
    }
   ],
   "source": [
    "(df[df.date > '2016'].user_id.value_counts() >= 10).sum()"
   ]
  },
  {
   "cell_type": "code",
   "execution_count": 179,
   "metadata": {},
   "outputs": [
    {
     "data": {
      "text/plain": [
       "30697"
      ]
     },
     "execution_count": 179,
     "metadata": {},
     "output_type": "execute_result"
    }
   ],
   "source": [
    "(df[df.date > '2017'].user_id.value_counts() >= 5).sum()"
   ]
  },
  {
   "cell_type": "code",
   "execution_count": 187,
   "metadata": {},
   "outputs": [
    {
     "data": {
      "text/plain": [
       "2329"
      ]
     },
     "execution_count": 187,
     "metadata": {},
     "output_type": "execute_result"
    }
   ],
   "source": [
    "(df.date >= '2019-12-10').sum()"
   ]
  },
  {
   "cell_type": "code",
   "execution_count": 164,
   "metadata": {},
   "outputs": [
    {
     "data": {
      "text/plain": [
       "0         2015-12-05 03:18:11\n",
       "1         2018-03-04 01:03:53\n",
       "2         2009-10-13 09:50:48\n",
       "3         2016-04-11 16:42:13\n",
       "4         2017-01-02 05:24:56\n",
       "                  ...        \n",
       "2021442   2019-12-10 07:43:02\n",
       "2021443   2015-05-06 00:05:18\n",
       "2021444   2019-12-06 08:47:32\n",
       "2021445   2019-06-06 15:01:53\n",
       "2021446   2019-12-07 00:29:55\n",
       "Name: date, Length: 2021447, dtype: datetime64[ns]"
      ]
     },
     "execution_count": 164,
     "metadata": {},
     "output_type": "execute_result"
    }
   ],
   "source": [
    "df.date"
   ]
  },
  {
   "cell_type": "code",
   "execution_count": 78,
   "metadata": {},
   "outputs": [
    {
     "data": {
      "text/plain": [
       "(2021447, 9)"
      ]
     },
     "execution_count": 78,
     "metadata": {},
     "output_type": "execute_result"
    }
   ],
   "source": [
    "df.shape"
   ]
  },
  {
   "cell_type": "code",
   "execution_count": 80,
   "metadata": {},
   "outputs": [
    {
     "data": {
      "text/plain": [
       "Index(['review_id', 'user_id', 'business_id', 'stars', 'date', 'text',\n",
       "       'useful', 'funny', 'cool'],\n",
       "      dtype='object')"
      ]
     },
     "execution_count": 80,
     "metadata": {},
     "output_type": "execute_result"
    }
   ],
   "source": [
    "df.columns"
   ]
  },
  {
   "cell_type": "code",
   "execution_count": 81,
   "metadata": {},
   "outputs": [],
   "source": [
    "r_df = df.drop(columns=['review_id', 'text', 'useful', 'funny', 'cool'])"
   ]
  },
  {
   "cell_type": "code",
   "execution_count": 85,
   "metadata": {},
   "outputs": [
    {
     "data": {
      "text/plain": [
       "(2021447, 4)"
      ]
     },
     "execution_count": 85,
     "metadata": {},
     "output_type": "execute_result"
    }
   ],
   "source": [
    "r_df.shape"
   ]
  },
  {
   "cell_type": "code",
   "execution_count": 86,
   "metadata": {},
   "outputs": [],
   "source": [
    "r_df = r_df[r_df['date'] > '2016']"
   ]
  },
  {
   "cell_type": "code",
   "execution_count": 87,
   "metadata": {},
   "outputs": [
    {
     "data": {
      "text/plain": [
       "(1215713, 4)"
      ]
     },
     "execution_count": 87,
     "metadata": {},
     "output_type": "execute_result"
    }
   ],
   "source": [
    "r_df.shape"
   ]
  },
  {
   "cell_type": "code",
   "execution_count": 100,
   "metadata": {},
   "outputs": [],
   "source": [
    "### One-liner\n",
    "r_df_count = r_df.groupby('user_id').filter(lambda x : len(x) >= 10)"
   ]
  },
  {
   "cell_type": "code",
   "execution_count": 101,
   "metadata": {},
   "outputs": [
    {
     "data": {
      "text/plain": [
       "bLbSNkLggFnqwNNzzq-Ijw    314\n",
       "JaqcCU3nxReTW2cBLHounA    288\n",
       "ELcQDlf69kb-ihJfxZyL0A    286\n",
       "6Ki3bAL0wx9ymbdJqbSWMA    278\n",
       "U4INQZOPSUaj8hMjLlZ3KA    255\n",
       "                         ... \n",
       "Br9bkJqjKms9BjvKWZsgwA     10\n",
       "TzAYNpymmXokjehm2TK3bA     10\n",
       "WZRv5LBXPeXPlx3_KegiEw     10\n",
       "bWxeDLTenYE3PvBu6PZavg     10\n",
       "Qju9j2Aby_j-MdspmASxTg     10\n",
       "Name: user_id, Length: 13811, dtype: int64"
      ]
     },
     "execution_count": 101,
     "metadata": {},
     "output_type": "execute_result"
    }
   ],
   "source": [
    "r_df_count.user_id.value_counts()"
   ]
  },
  {
   "cell_type": "code",
   "execution_count": null,
   "metadata": {},
   "outputs": [],
   "source": [
    "r_df.groupby('user_id')"
   ]
  },
  {
   "cell_type": "code",
   "execution_count": 93,
   "metadata": {},
   "outputs": [
    {
     "ename": "ValueError",
     "evalue": "('Lengths must match to compare', (1215713,), (13811,))",
     "output_type": "error",
     "traceback": [
      "\u001b[0;31m---------------------------------------------------------------------------\u001b[0m",
      "\u001b[0;31mValueError\u001b[0m                                Traceback (most recent call last)",
      "\u001b[0;32m<ipython-input-93-3e77a62e036b>\u001b[0m in \u001b[0;36m<module>\u001b[0;34m\u001b[0m\n\u001b[0;32m----> 1\u001b[0;31m \u001b[0mr_df\u001b[0m\u001b[0;34m.\u001b[0m\u001b[0muser_id\u001b[0m \u001b[0;34m==\u001b[0m \u001b[0mr_df\u001b[0m\u001b[0;34m.\u001b[0m\u001b[0muser_id\u001b[0m\u001b[0;34m.\u001b[0m\u001b[0mvalue_counts\u001b[0m\u001b[0;34m(\u001b[0m\u001b[0;34m)\u001b[0m\u001b[0;34m[\u001b[0m\u001b[0mr_df\u001b[0m\u001b[0;34m.\u001b[0m\u001b[0muser_id\u001b[0m\u001b[0;34m.\u001b[0m\u001b[0mvalue_counts\u001b[0m\u001b[0;34m(\u001b[0m\u001b[0;34m)\u001b[0m \u001b[0;34m>=\u001b[0m \u001b[0;36m10\u001b[0m\u001b[0;34m]\u001b[0m\u001b[0;34m.\u001b[0m\u001b[0mindex\u001b[0m\u001b[0;34m\u001b[0m\u001b[0;34m\u001b[0m\u001b[0m\n\u001b[0m",
      "\u001b[0;32m~/anaconda3/lib/python3.8/site-packages/pandas/core/ops/common.py\u001b[0m in \u001b[0;36mnew_method\u001b[0;34m(self, other)\u001b[0m\n\u001b[1;32m     63\u001b[0m         \u001b[0mother\u001b[0m \u001b[0;34m=\u001b[0m \u001b[0mitem_from_zerodim\u001b[0m\u001b[0;34m(\u001b[0m\u001b[0mother\u001b[0m\u001b[0;34m)\u001b[0m\u001b[0;34m\u001b[0m\u001b[0;34m\u001b[0m\u001b[0m\n\u001b[1;32m     64\u001b[0m \u001b[0;34m\u001b[0m\u001b[0m\n\u001b[0;32m---> 65\u001b[0;31m         \u001b[0;32mreturn\u001b[0m \u001b[0mmethod\u001b[0m\u001b[0;34m(\u001b[0m\u001b[0mself\u001b[0m\u001b[0;34m,\u001b[0m \u001b[0mother\u001b[0m\u001b[0;34m)\u001b[0m\u001b[0;34m\u001b[0m\u001b[0;34m\u001b[0m\u001b[0m\n\u001b[0m\u001b[1;32m     66\u001b[0m \u001b[0;34m\u001b[0m\u001b[0m\n\u001b[1;32m     67\u001b[0m     \u001b[0;32mreturn\u001b[0m \u001b[0mnew_method\u001b[0m\u001b[0;34m\u001b[0m\u001b[0;34m\u001b[0m\u001b[0m\n",
      "\u001b[0;32m~/anaconda3/lib/python3.8/site-packages/pandas/core/ops/__init__.py\u001b[0m in \u001b[0;36mwrapper\u001b[0;34m(self, other)\u001b[0m\n\u001b[1;32m    368\u001b[0m         \u001b[0mrvalues\u001b[0m \u001b[0;34m=\u001b[0m \u001b[0mextract_array\u001b[0m\u001b[0;34m(\u001b[0m\u001b[0mother\u001b[0m\u001b[0;34m,\u001b[0m \u001b[0mextract_numpy\u001b[0m\u001b[0;34m=\u001b[0m\u001b[0;32mTrue\u001b[0m\u001b[0;34m)\u001b[0m\u001b[0;34m\u001b[0m\u001b[0;34m\u001b[0m\u001b[0m\n\u001b[1;32m    369\u001b[0m \u001b[0;34m\u001b[0m\u001b[0m\n\u001b[0;32m--> 370\u001b[0;31m         \u001b[0mres_values\u001b[0m \u001b[0;34m=\u001b[0m \u001b[0mcomparison_op\u001b[0m\u001b[0;34m(\u001b[0m\u001b[0mlvalues\u001b[0m\u001b[0;34m,\u001b[0m \u001b[0mrvalues\u001b[0m\u001b[0;34m,\u001b[0m \u001b[0mop\u001b[0m\u001b[0;34m)\u001b[0m\u001b[0;34m\u001b[0m\u001b[0;34m\u001b[0m\u001b[0m\n\u001b[0m\u001b[1;32m    371\u001b[0m \u001b[0;34m\u001b[0m\u001b[0m\n\u001b[1;32m    372\u001b[0m         \u001b[0;32mreturn\u001b[0m \u001b[0mself\u001b[0m\u001b[0;34m.\u001b[0m\u001b[0m_construct_result\u001b[0m\u001b[0;34m(\u001b[0m\u001b[0mres_values\u001b[0m\u001b[0;34m,\u001b[0m \u001b[0mname\u001b[0m\u001b[0;34m=\u001b[0m\u001b[0mres_name\u001b[0m\u001b[0;34m)\u001b[0m\u001b[0;34m\u001b[0m\u001b[0;34m\u001b[0m\u001b[0m\n",
      "\u001b[0;32m~/anaconda3/lib/python3.8/site-packages/pandas/core/ops/array_ops.py\u001b[0m in \u001b[0;36mcomparison_op\u001b[0;34m(left, right, op)\u001b[0m\n\u001b[1;32m    222\u001b[0m         \u001b[0;31m#  The ambiguous case is object-dtype.  See GH#27803\u001b[0m\u001b[0;34m\u001b[0m\u001b[0;34m\u001b[0m\u001b[0;34m\u001b[0m\u001b[0m\n\u001b[1;32m    223\u001b[0m         \u001b[0;32mif\u001b[0m \u001b[0mlen\u001b[0m\u001b[0;34m(\u001b[0m\u001b[0mlvalues\u001b[0m\u001b[0;34m)\u001b[0m \u001b[0;34m!=\u001b[0m \u001b[0mlen\u001b[0m\u001b[0;34m(\u001b[0m\u001b[0mrvalues\u001b[0m\u001b[0;34m)\u001b[0m\u001b[0;34m:\u001b[0m\u001b[0;34m\u001b[0m\u001b[0;34m\u001b[0m\u001b[0m\n\u001b[0;32m--> 224\u001b[0;31m             raise ValueError(\n\u001b[0m\u001b[1;32m    225\u001b[0m                 \u001b[0;34m\"Lengths must match to compare\"\u001b[0m\u001b[0;34m,\u001b[0m \u001b[0mlvalues\u001b[0m\u001b[0;34m.\u001b[0m\u001b[0mshape\u001b[0m\u001b[0;34m,\u001b[0m \u001b[0mrvalues\u001b[0m\u001b[0;34m.\u001b[0m\u001b[0mshape\u001b[0m\u001b[0;34m\u001b[0m\u001b[0;34m\u001b[0m\u001b[0m\n\u001b[1;32m    226\u001b[0m             )\n",
      "\u001b[0;31mValueError\u001b[0m: ('Lengths must match to compare', (1215713,), (13811,))"
     ]
    }
   ],
   "source": [
    "r_df.user_id == r_df.user_id.value_counts()[r_df.user_id.value_counts() >= 10].index"
   ]
  },
  {
   "cell_type": "code",
   "execution_count": null,
   "metadata": {},
   "outputs": [],
   "source": []
  }
 ],
 "metadata": {
  "kernelspec": {
   "display_name": "Python 3",
   "language": "python",
   "name": "python3"
  },
  "language_info": {
   "codemirror_mode": {
    "name": "ipython",
    "version": 3
   },
   "file_extension": ".py",
   "mimetype": "text/x-python",
   "name": "python",
   "nbconvert_exporter": "python",
   "pygments_lexer": "ipython3",
   "version": "3.8.5"
  }
 },
 "nbformat": 4,
 "nbformat_minor": 4
}
