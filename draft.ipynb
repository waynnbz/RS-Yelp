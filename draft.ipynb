{
 "cells": [
  {
   "cell_type": "code",
   "execution_count": 174,
   "metadata": {},
   "outputs": [],
   "source": [
    "import json\n",
    "import pandas as pd\n",
    "import numpy as np\n",
    "from scipy.sparse import csr_matrix\n",
    "\n",
    "import matplotlib.pyplot as plt\n",
    "%matplotlib inline"
   ]
  },
  {
   "cell_type": "code",
   "execution_count": 2,
   "metadata": {},
   "outputs": [],
   "source": [
    "bizPATH = 'data/yelp_dataset/yelp_academic_dataset_business.json'\n",
    "revPATH = 'data/yelp_dataset/yelp_academic_dataset_review.json'"
   ]
  },
  {
   "cell_type": "code",
   "execution_count": 169,
   "metadata": {},
   "outputs": [],
   "source": [
    "class Business:\n",
    "    \n",
    "    def __init__(self, business_id, name, address, coordinate, stars, review_count, attributes, categories):\n",
    "        self.business_id = business_id\n",
    "        self.name = name\n",
    "        self.address = address\n",
    "        self.coordinate = coordinate\n",
    "        self.stars = stars\n",
    "        self.review_count = review_count\n",
    "        self.attributes = attributes\n",
    "        self.categories = categories\n",
    "        \n",
    "    def __repr__(self):\n",
    "        return (\n",
    "            f\"Address: {self.address}\\nCoordinate: {self.coordinate}\\nStars: {self.stars}\\nCategories: {self.categories}\"\n",
    "        )\n",
    "    \n",
    "    \n",
    "def BusinessDecoder(obj):\n",
    "    \n",
    "    address = f\"{obj['address']} {obj['city']} {obj['state']} {obj['postal_code']}\"\n",
    "    coordinate = (obj['latitude'], obj['longitude'])\n",
    "    \n",
    "    return Business(obj['business_id'], obj['name'], address, coordinate, obj['stars'], obj['review_count'], \n",
    "                    obj['attributes'], obj['categories'])"
   ]
  },
  {
   "cell_type": "code",
   "execution_count": 166,
   "metadata": {},
   "outputs": [],
   "source": [
    "b1 = BusinessDecoder(obj)"
   ]
  },
  {
   "cell_type": "code",
   "execution_count": 167,
   "metadata": {},
   "outputs": [
    {
     "data": {
      "text/plain": [
       "'10913 Bailey Rd Cornelius NC 28031'"
      ]
     },
     "execution_count": 167,
     "metadata": {},
     "output_type": "execute_result"
    }
   ],
   "source": [
    "b1.address"
   ]
  },
  {
   "cell_type": "code",
   "execution_count": 168,
   "metadata": {},
   "outputs": [
    {
     "name": "stdout",
     "output_type": "stream",
     "text": [
      "Address: 10913 Bailey Rd Cornelius NC 28031\n",
      "Coordinate: (35.4627242, -80.8526119)\n",
      "Stars: 3.5\n",
      "Categories: Active Life, Gun/Rifle Ranges, Guns & Ammo, Shopping\n"
     ]
    }
   ],
   "source": [
    "print(b1)"
   ]
  },
  {
   "cell_type": "code",
   "execution_count": 170,
   "metadata": {},
   "outputs": [],
   "source": [
    "# first extracting all the biz id within 'bar' category and save it into a dict\n",
    "# because dict is implemented in hashtable with mostly O(1) look up time\n",
    "\n",
    "\n",
    "def bizCatFilter(path, cat = 'bar'):\n",
    "\n",
    "    bizID = {}\n",
    "    nameMapper = {}\n",
    "\n",
    "    with open(path, 'r') as infile:\n",
    "        for line in infile:\n",
    "            \n",
    "            data = json.loads(line)\n",
    "            \n",
    "            if data['categories']:\n",
    "                if cat.lower() in data['categories'].lower():\n",
    "                    if data['review_count'] >= 10: \n",
    "                        \n",
    "                        nameMapper[data['name']] = data['business_id']\n",
    "                        bizID[data['business_id']] = BusinessDecoder(data)\n",
    "                        \n",
    "    return bizID, nameMapper"
   ]
  },
  {
   "cell_type": "code",
   "execution_count": 123,
   "metadata": {},
   "outputs": [
    {
     "data": {
      "text/plain": [
       "dict"
      ]
     },
     "execution_count": 123,
     "metadata": {},
     "output_type": "execute_result"
    }
   ],
   "source": [
    "type(json.loads(json.dumps(data)))"
   ]
  },
  {
   "cell_type": "code",
   "execution_count": 171,
   "metadata": {},
   "outputs": [],
   "source": [
    "bizID, nameMapper = bizCatFilter(bizPATH, cat = 'bar') "
   ]
  },
  {
   "cell_type": "code",
   "execution_count": 280,
   "metadata": {},
   "outputs": [],
   "source": [
    "path = revPATH\n",
    "# stop = 100000\n",
    "\n",
    "reviews = list()\n",
    "with open(path, 'r') as infile:\n",
    "    for i, line in enumerate(infile):\n",
    "#         if i%(stop)==0:\n",
    "#             print(i)\n",
    "#         if i == stop:\n",
    "#             break\n",
    "            \n",
    "        data = json.loads(line)\n",
    "        \n",
    "        if(data['business_id'] in bizID):\n",
    "            \n",
    "#             review_id = data['review_id']\n",
    "            user_id = data['user_id']\n",
    "            business_id = data['business_id']\n",
    "            stars = data['stars']\n",
    "            date = data['date']\n",
    "#             text = data['text']\n",
    "#             useful = data['useful']\n",
    "#             funny = data['funny']\n",
    "#             cool = data['cool']\n",
    "            \n",
    "            reviews.append([user_id, business_id, stars, date])\n",
    "            #[review_id, user_id, business_id, stars, date, text, useful, funny, cool])\n",
    "            \n",
    "\n",
    "df = pd.DataFrame(reviews, columns = ['user_id', 'business_id', 'stars', 'date'])\n",
    "#['review_id', 'user_id', 'business_id', 'stars', 'date', 'text', 'useful', 'funny', 'cool'])"
   ]
  },
  {
   "cell_type": "code",
   "execution_count": 281,
   "metadata": {},
   "outputs": [],
   "source": [
    "df.date = pd.to_datetime(df.date)\n",
    "df = df[df['date'] > '2016']\n",
    "df = df.drop(columns='date')"
   ]
  },
  {
   "cell_type": "code",
   "execution_count": 282,
   "metadata": {},
   "outputs": [],
   "source": [
    "df = df.drop_duplicates(subset=['business_id', 'user_id'], keep='last')"
   ]
  },
  {
   "cell_type": "code",
   "execution_count": 283,
   "metadata": {},
   "outputs": [],
   "source": [
    "treshold = 10\n",
    "df = df.groupby('user_id').filter(lambda x : len(x) >= treshold)\n",
    "df = df.groupby('business_id').filter(lambda x : len(x) >= treshold)"
   ]
  },
  {
   "cell_type": "code",
   "execution_count": 284,
   "metadata": {},
   "outputs": [],
   "source": [
    "revs = df.pivot(\n",
    "    index = 'business_id',\n",
    "    columns = 'user_id',\n",
    "    values = 'stars'\n",
    ").fillna(0)"
   ]
  },
  {
   "cell_type": "code",
   "execution_count": 285,
   "metadata": {},
   "outputs": [],
   "source": [
    "#scipy sparse matrix used to avoid improve efficiency\n",
    "matMapper = {v:k for k, v in enumerate(revs.index)}\n",
    "mat_revs = csr_matrix(revs.values)"
   ]
  },
  {
   "cell_type": "code",
   "execution_count": 286,
   "metadata": {},
   "outputs": [
    {
     "data": {
      "text/plain": [
       "(6197, 12680)"
      ]
     },
     "execution_count": 286,
     "metadata": {},
     "output_type": "execute_result"
    }
   ],
   "source": [
    "revs.shape"
   ]
  },
  {
   "cell_type": "code",
   "execution_count": 109,
   "metadata": {},
   "outputs": [
    {
     "data": {
      "text/plain": [
       "user_id\n",
       "--2HUmLkcNHZp0xw6AMBPg    17\n",
       "--BumyUHiO_7YsHurb9Hkw    12\n",
       "--Nnm_506G_p8MxAOQna5w    13\n",
       "--Qh8yKWAvIP4V4K8ZPfHA    13\n",
       "--YhjyV-ce1nFLYxP49C5A    16\n",
       "                          ..\n",
       "zyebSPCZLUZHapi-dSHU5Q    20\n",
       "zyh_AzbO1JNnhywem3hUPg    10\n",
       "zz25_Dsf99KnwTpdl4-PDQ    10\n",
       "zzmhLxcZ4XZQyz95c_KbOA    15\n",
       "zzo--VpSQh8PpsGVeMC1dQ    14\n",
       "Length: 10421, dtype: int64"
      ]
     },
     "execution_count": 109,
     "metadata": {},
     "output_type": "execute_result"
    }
   ],
   "source": [
    "(revs != 0).sum()"
   ]
  },
  {
   "cell_type": "code",
   "execution_count": 114,
   "metadata": {},
   "outputs": [
    {
     "data": {
      "text/html": [
       "<div>\n",
       "<style scoped>\n",
       "    .dataframe tbody tr th:only-of-type {\n",
       "        vertical-align: middle;\n",
       "    }\n",
       "\n",
       "    .dataframe tbody tr th {\n",
       "        vertical-align: top;\n",
       "    }\n",
       "\n",
       "    .dataframe thead th {\n",
       "        text-align: right;\n",
       "    }\n",
       "</style>\n",
       "<table border=\"1\" class=\"dataframe\">\n",
       "  <thead>\n",
       "    <tr style=\"text-align: right;\">\n",
       "      <th>user_id</th>\n",
       "      <th>--2HUmLkcNHZp0xw6AMBPg</th>\n",
       "      <th>--BumyUHiO_7YsHurb9Hkw</th>\n",
       "      <th>--Nnm_506G_p8MxAOQna5w</th>\n",
       "      <th>--Qh8yKWAvIP4V4K8ZPfHA</th>\n",
       "      <th>--YhjyV-ce1nFLYxP49C5A</th>\n",
       "      <th>--ZNfWKj1VyVElRx6-g1fg</th>\n",
       "      <th>--cd_gA-9Q8gM9P2cTxEsQ</th>\n",
       "      <th>-0-hVEpwWEcJLJoGq3rE3g</th>\n",
       "      <th>-0Xu57zrI3Rxi8wGZsnWKQ</th>\n",
       "      <th>-0b84SUGVN0YkG5j2MCmBw</th>\n",
       "      <th>...</th>\n",
       "      <th>zx3y74_pvIRuQSVIrgzCew</th>\n",
       "      <th>zxRHyxQm-32j5Z7Pi7bHCA</th>\n",
       "      <th>zxmIKyEX89aY0QLC1JJksA</th>\n",
       "      <th>zy4A7504SezncCAcotMv4g</th>\n",
       "      <th>zyMB50UtmEuQf-1VUKxZxQ</th>\n",
       "      <th>zyebSPCZLUZHapi-dSHU5Q</th>\n",
       "      <th>zyh_AzbO1JNnhywem3hUPg</th>\n",
       "      <th>zz25_Dsf99KnwTpdl4-PDQ</th>\n",
       "      <th>zzmhLxcZ4XZQyz95c_KbOA</th>\n",
       "      <th>zzo--VpSQh8PpsGVeMC1dQ</th>\n",
       "    </tr>\n",
       "    <tr>\n",
       "      <th>business_id</th>\n",
       "      <th></th>\n",
       "      <th></th>\n",
       "      <th></th>\n",
       "      <th></th>\n",
       "      <th></th>\n",
       "      <th></th>\n",
       "      <th></th>\n",
       "      <th></th>\n",
       "      <th></th>\n",
       "      <th></th>\n",
       "      <th></th>\n",
       "      <th></th>\n",
       "      <th></th>\n",
       "      <th></th>\n",
       "      <th></th>\n",
       "      <th></th>\n",
       "      <th></th>\n",
       "      <th></th>\n",
       "      <th></th>\n",
       "      <th></th>\n",
       "      <th></th>\n",
       "    </tr>\n",
       "  </thead>\n",
       "  <tbody>\n",
       "    <tr>\n",
       "      <th>--FBCX-N37CMYDfs790Bnw</th>\n",
       "      <td>0.0</td>\n",
       "      <td>0.0</td>\n",
       "      <td>0.0</td>\n",
       "      <td>0.0</td>\n",
       "      <td>0.0</td>\n",
       "      <td>0.0</td>\n",
       "      <td>0.0</td>\n",
       "      <td>0.0</td>\n",
       "      <td>0.0</td>\n",
       "      <td>0.0</td>\n",
       "      <td>...</td>\n",
       "      <td>0.0</td>\n",
       "      <td>0.0</td>\n",
       "      <td>0.0</td>\n",
       "      <td>0.0</td>\n",
       "      <td>0.0</td>\n",
       "      <td>0.0</td>\n",
       "      <td>0.0</td>\n",
       "      <td>0.0</td>\n",
       "      <td>0.0</td>\n",
       "      <td>0.0</td>\n",
       "    </tr>\n",
       "    <tr>\n",
       "      <th>--cjBEbXMI2obtaRHNSFrA</th>\n",
       "      <td>0.0</td>\n",
       "      <td>0.0</td>\n",
       "      <td>0.0</td>\n",
       "      <td>0.0</td>\n",
       "      <td>0.0</td>\n",
       "      <td>0.0</td>\n",
       "      <td>0.0</td>\n",
       "      <td>0.0</td>\n",
       "      <td>0.0</td>\n",
       "      <td>0.0</td>\n",
       "      <td>...</td>\n",
       "      <td>0.0</td>\n",
       "      <td>0.0</td>\n",
       "      <td>0.0</td>\n",
       "      <td>0.0</td>\n",
       "      <td>0.0</td>\n",
       "      <td>0.0</td>\n",
       "      <td>0.0</td>\n",
       "      <td>0.0</td>\n",
       "      <td>0.0</td>\n",
       "      <td>0.0</td>\n",
       "    </tr>\n",
       "    <tr>\n",
       "      <th>-01XupAWZEXbdNbxNg5mEg</th>\n",
       "      <td>0.0</td>\n",
       "      <td>0.0</td>\n",
       "      <td>0.0</td>\n",
       "      <td>0.0</td>\n",
       "      <td>0.0</td>\n",
       "      <td>0.0</td>\n",
       "      <td>0.0</td>\n",
       "      <td>0.0</td>\n",
       "      <td>0.0</td>\n",
       "      <td>0.0</td>\n",
       "      <td>...</td>\n",
       "      <td>0.0</td>\n",
       "      <td>0.0</td>\n",
       "      <td>0.0</td>\n",
       "      <td>0.0</td>\n",
       "      <td>0.0</td>\n",
       "      <td>0.0</td>\n",
       "      <td>0.0</td>\n",
       "      <td>0.0</td>\n",
       "      <td>0.0</td>\n",
       "      <td>0.0</td>\n",
       "    </tr>\n",
       "    <tr>\n",
       "      <th>-0NrB58jqKqJfuUCDupcsw</th>\n",
       "      <td>0.0</td>\n",
       "      <td>0.0</td>\n",
       "      <td>0.0</td>\n",
       "      <td>0.0</td>\n",
       "      <td>0.0</td>\n",
       "      <td>0.0</td>\n",
       "      <td>0.0</td>\n",
       "      <td>0.0</td>\n",
       "      <td>0.0</td>\n",
       "      <td>0.0</td>\n",
       "      <td>...</td>\n",
       "      <td>0.0</td>\n",
       "      <td>0.0</td>\n",
       "      <td>0.0</td>\n",
       "      <td>0.0</td>\n",
       "      <td>0.0</td>\n",
       "      <td>0.0</td>\n",
       "      <td>0.0</td>\n",
       "      <td>0.0</td>\n",
       "      <td>0.0</td>\n",
       "      <td>0.0</td>\n",
       "    </tr>\n",
       "    <tr>\n",
       "      <th>-0WegMt6Cy966qlDKhu6jA</th>\n",
       "      <td>0.0</td>\n",
       "      <td>0.0</td>\n",
       "      <td>0.0</td>\n",
       "      <td>0.0</td>\n",
       "      <td>0.0</td>\n",
       "      <td>0.0</td>\n",
       "      <td>0.0</td>\n",
       "      <td>0.0</td>\n",
       "      <td>0.0</td>\n",
       "      <td>0.0</td>\n",
       "      <td>...</td>\n",
       "      <td>0.0</td>\n",
       "      <td>0.0</td>\n",
       "      <td>0.0</td>\n",
       "      <td>0.0</td>\n",
       "      <td>0.0</td>\n",
       "      <td>0.0</td>\n",
       "      <td>0.0</td>\n",
       "      <td>0.0</td>\n",
       "      <td>0.0</td>\n",
       "      <td>0.0</td>\n",
       "    </tr>\n",
       "    <tr>\n",
       "      <th>...</th>\n",
       "      <td>...</td>\n",
       "      <td>...</td>\n",
       "      <td>...</td>\n",
       "      <td>...</td>\n",
       "      <td>...</td>\n",
       "      <td>...</td>\n",
       "      <td>...</td>\n",
       "      <td>...</td>\n",
       "      <td>...</td>\n",
       "      <td>...</td>\n",
       "      <td>...</td>\n",
       "      <td>...</td>\n",
       "      <td>...</td>\n",
       "      <td>...</td>\n",
       "      <td>...</td>\n",
       "      <td>...</td>\n",
       "      <td>...</td>\n",
       "      <td>...</td>\n",
       "      <td>...</td>\n",
       "      <td>...</td>\n",
       "      <td>...</td>\n",
       "    </tr>\n",
       "    <tr>\n",
       "      <th>zxsktAMsVBKj2PvvCV11UQ</th>\n",
       "      <td>0.0</td>\n",
       "      <td>0.0</td>\n",
       "      <td>0.0</td>\n",
       "      <td>0.0</td>\n",
       "      <td>0.0</td>\n",
       "      <td>0.0</td>\n",
       "      <td>0.0</td>\n",
       "      <td>0.0</td>\n",
       "      <td>0.0</td>\n",
       "      <td>0.0</td>\n",
       "      <td>...</td>\n",
       "      <td>0.0</td>\n",
       "      <td>0.0</td>\n",
       "      <td>0.0</td>\n",
       "      <td>0.0</td>\n",
       "      <td>0.0</td>\n",
       "      <td>0.0</td>\n",
       "      <td>0.0</td>\n",
       "      <td>0.0</td>\n",
       "      <td>0.0</td>\n",
       "      <td>0.0</td>\n",
       "    </tr>\n",
       "    <tr>\n",
       "      <th>zyPGYeXF4XKCqNN1pjFWhg</th>\n",
       "      <td>0.0</td>\n",
       "      <td>0.0</td>\n",
       "      <td>0.0</td>\n",
       "      <td>0.0</td>\n",
       "      <td>0.0</td>\n",
       "      <td>0.0</td>\n",
       "      <td>0.0</td>\n",
       "      <td>0.0</td>\n",
       "      <td>0.0</td>\n",
       "      <td>0.0</td>\n",
       "      <td>...</td>\n",
       "      <td>0.0</td>\n",
       "      <td>0.0</td>\n",
       "      <td>0.0</td>\n",
       "      <td>0.0</td>\n",
       "      <td>0.0</td>\n",
       "      <td>0.0</td>\n",
       "      <td>0.0</td>\n",
       "      <td>0.0</td>\n",
       "      <td>0.0</td>\n",
       "      <td>0.0</td>\n",
       "    </tr>\n",
       "    <tr>\n",
       "      <th>zyw5DjrRks7a8OhmBsgCQQ</th>\n",
       "      <td>0.0</td>\n",
       "      <td>0.0</td>\n",
       "      <td>0.0</td>\n",
       "      <td>0.0</td>\n",
       "      <td>0.0</td>\n",
       "      <td>0.0</td>\n",
       "      <td>0.0</td>\n",
       "      <td>0.0</td>\n",
       "      <td>0.0</td>\n",
       "      <td>0.0</td>\n",
       "      <td>...</td>\n",
       "      <td>0.0</td>\n",
       "      <td>0.0</td>\n",
       "      <td>0.0</td>\n",
       "      <td>0.0</td>\n",
       "      <td>0.0</td>\n",
       "      <td>0.0</td>\n",
       "      <td>0.0</td>\n",
       "      <td>0.0</td>\n",
       "      <td>0.0</td>\n",
       "      <td>0.0</td>\n",
       "    </tr>\n",
       "    <tr>\n",
       "      <th>zzUj3ej4vm_DtvRxNvWDEw</th>\n",
       "      <td>0.0</td>\n",
       "      <td>0.0</td>\n",
       "      <td>0.0</td>\n",
       "      <td>0.0</td>\n",
       "      <td>0.0</td>\n",
       "      <td>0.0</td>\n",
       "      <td>0.0</td>\n",
       "      <td>0.0</td>\n",
       "      <td>0.0</td>\n",
       "      <td>0.0</td>\n",
       "      <td>...</td>\n",
       "      <td>0.0</td>\n",
       "      <td>0.0</td>\n",
       "      <td>0.0</td>\n",
       "      <td>0.0</td>\n",
       "      <td>0.0</td>\n",
       "      <td>0.0</td>\n",
       "      <td>0.0</td>\n",
       "      <td>0.0</td>\n",
       "      <td>0.0</td>\n",
       "      <td>0.0</td>\n",
       "    </tr>\n",
       "    <tr>\n",
       "      <th>zzwaS0xn1MVEPEf0hNLjew</th>\n",
       "      <td>0.0</td>\n",
       "      <td>0.0</td>\n",
       "      <td>0.0</td>\n",
       "      <td>0.0</td>\n",
       "      <td>0.0</td>\n",
       "      <td>0.0</td>\n",
       "      <td>0.0</td>\n",
       "      <td>0.0</td>\n",
       "      <td>0.0</td>\n",
       "      <td>0.0</td>\n",
       "      <td>...</td>\n",
       "      <td>0.0</td>\n",
       "      <td>0.0</td>\n",
       "      <td>0.0</td>\n",
       "      <td>0.0</td>\n",
       "      <td>0.0</td>\n",
       "      <td>0.0</td>\n",
       "      <td>0.0</td>\n",
       "      <td>0.0</td>\n",
       "      <td>0.0</td>\n",
       "      <td>0.0</td>\n",
       "    </tr>\n",
       "  </tbody>\n",
       "</table>\n",
       "<p>5599 rows × 10421 columns</p>\n",
       "</div>"
      ],
      "text/plain": [
       "user_id                 --2HUmLkcNHZp0xw6AMBPg  --BumyUHiO_7YsHurb9Hkw  \\\n",
       "business_id                                                              \n",
       "--FBCX-N37CMYDfs790Bnw                     0.0                     0.0   \n",
       "--cjBEbXMI2obtaRHNSFrA                     0.0                     0.0   \n",
       "-01XupAWZEXbdNbxNg5mEg                     0.0                     0.0   \n",
       "-0NrB58jqKqJfuUCDupcsw                     0.0                     0.0   \n",
       "-0WegMt6Cy966qlDKhu6jA                     0.0                     0.0   \n",
       "...                                        ...                     ...   \n",
       "zxsktAMsVBKj2PvvCV11UQ                     0.0                     0.0   \n",
       "zyPGYeXF4XKCqNN1pjFWhg                     0.0                     0.0   \n",
       "zyw5DjrRks7a8OhmBsgCQQ                     0.0                     0.0   \n",
       "zzUj3ej4vm_DtvRxNvWDEw                     0.0                     0.0   \n",
       "zzwaS0xn1MVEPEf0hNLjew                     0.0                     0.0   \n",
       "\n",
       "user_id                 --Nnm_506G_p8MxAOQna5w  --Qh8yKWAvIP4V4K8ZPfHA  \\\n",
       "business_id                                                              \n",
       "--FBCX-N37CMYDfs790Bnw                     0.0                     0.0   \n",
       "--cjBEbXMI2obtaRHNSFrA                     0.0                     0.0   \n",
       "-01XupAWZEXbdNbxNg5mEg                     0.0                     0.0   \n",
       "-0NrB58jqKqJfuUCDupcsw                     0.0                     0.0   \n",
       "-0WegMt6Cy966qlDKhu6jA                     0.0                     0.0   \n",
       "...                                        ...                     ...   \n",
       "zxsktAMsVBKj2PvvCV11UQ                     0.0                     0.0   \n",
       "zyPGYeXF4XKCqNN1pjFWhg                     0.0                     0.0   \n",
       "zyw5DjrRks7a8OhmBsgCQQ                     0.0                     0.0   \n",
       "zzUj3ej4vm_DtvRxNvWDEw                     0.0                     0.0   \n",
       "zzwaS0xn1MVEPEf0hNLjew                     0.0                     0.0   \n",
       "\n",
       "user_id                 --YhjyV-ce1nFLYxP49C5A  --ZNfWKj1VyVElRx6-g1fg  \\\n",
       "business_id                                                              \n",
       "--FBCX-N37CMYDfs790Bnw                     0.0                     0.0   \n",
       "--cjBEbXMI2obtaRHNSFrA                     0.0                     0.0   \n",
       "-01XupAWZEXbdNbxNg5mEg                     0.0                     0.0   \n",
       "-0NrB58jqKqJfuUCDupcsw                     0.0                     0.0   \n",
       "-0WegMt6Cy966qlDKhu6jA                     0.0                     0.0   \n",
       "...                                        ...                     ...   \n",
       "zxsktAMsVBKj2PvvCV11UQ                     0.0                     0.0   \n",
       "zyPGYeXF4XKCqNN1pjFWhg                     0.0                     0.0   \n",
       "zyw5DjrRks7a8OhmBsgCQQ                     0.0                     0.0   \n",
       "zzUj3ej4vm_DtvRxNvWDEw                     0.0                     0.0   \n",
       "zzwaS0xn1MVEPEf0hNLjew                     0.0                     0.0   \n",
       "\n",
       "user_id                 --cd_gA-9Q8gM9P2cTxEsQ  -0-hVEpwWEcJLJoGq3rE3g  \\\n",
       "business_id                                                              \n",
       "--FBCX-N37CMYDfs790Bnw                     0.0                     0.0   \n",
       "--cjBEbXMI2obtaRHNSFrA                     0.0                     0.0   \n",
       "-01XupAWZEXbdNbxNg5mEg                     0.0                     0.0   \n",
       "-0NrB58jqKqJfuUCDupcsw                     0.0                     0.0   \n",
       "-0WegMt6Cy966qlDKhu6jA                     0.0                     0.0   \n",
       "...                                        ...                     ...   \n",
       "zxsktAMsVBKj2PvvCV11UQ                     0.0                     0.0   \n",
       "zyPGYeXF4XKCqNN1pjFWhg                     0.0                     0.0   \n",
       "zyw5DjrRks7a8OhmBsgCQQ                     0.0                     0.0   \n",
       "zzUj3ej4vm_DtvRxNvWDEw                     0.0                     0.0   \n",
       "zzwaS0xn1MVEPEf0hNLjew                     0.0                     0.0   \n",
       "\n",
       "user_id                 -0Xu57zrI3Rxi8wGZsnWKQ  -0b84SUGVN0YkG5j2MCmBw  ...  \\\n",
       "business_id                                                             ...   \n",
       "--FBCX-N37CMYDfs790Bnw                     0.0                     0.0  ...   \n",
       "--cjBEbXMI2obtaRHNSFrA                     0.0                     0.0  ...   \n",
       "-01XupAWZEXbdNbxNg5mEg                     0.0                     0.0  ...   \n",
       "-0NrB58jqKqJfuUCDupcsw                     0.0                     0.0  ...   \n",
       "-0WegMt6Cy966qlDKhu6jA                     0.0                     0.0  ...   \n",
       "...                                        ...                     ...  ...   \n",
       "zxsktAMsVBKj2PvvCV11UQ                     0.0                     0.0  ...   \n",
       "zyPGYeXF4XKCqNN1pjFWhg                     0.0                     0.0  ...   \n",
       "zyw5DjrRks7a8OhmBsgCQQ                     0.0                     0.0  ...   \n",
       "zzUj3ej4vm_DtvRxNvWDEw                     0.0                     0.0  ...   \n",
       "zzwaS0xn1MVEPEf0hNLjew                     0.0                     0.0  ...   \n",
       "\n",
       "user_id                 zx3y74_pvIRuQSVIrgzCew  zxRHyxQm-32j5Z7Pi7bHCA  \\\n",
       "business_id                                                              \n",
       "--FBCX-N37CMYDfs790Bnw                     0.0                     0.0   \n",
       "--cjBEbXMI2obtaRHNSFrA                     0.0                     0.0   \n",
       "-01XupAWZEXbdNbxNg5mEg                     0.0                     0.0   \n",
       "-0NrB58jqKqJfuUCDupcsw                     0.0                     0.0   \n",
       "-0WegMt6Cy966qlDKhu6jA                     0.0                     0.0   \n",
       "...                                        ...                     ...   \n",
       "zxsktAMsVBKj2PvvCV11UQ                     0.0                     0.0   \n",
       "zyPGYeXF4XKCqNN1pjFWhg                     0.0                     0.0   \n",
       "zyw5DjrRks7a8OhmBsgCQQ                     0.0                     0.0   \n",
       "zzUj3ej4vm_DtvRxNvWDEw                     0.0                     0.0   \n",
       "zzwaS0xn1MVEPEf0hNLjew                     0.0                     0.0   \n",
       "\n",
       "user_id                 zxmIKyEX89aY0QLC1JJksA  zy4A7504SezncCAcotMv4g  \\\n",
       "business_id                                                              \n",
       "--FBCX-N37CMYDfs790Bnw                     0.0                     0.0   \n",
       "--cjBEbXMI2obtaRHNSFrA                     0.0                     0.0   \n",
       "-01XupAWZEXbdNbxNg5mEg                     0.0                     0.0   \n",
       "-0NrB58jqKqJfuUCDupcsw                     0.0                     0.0   \n",
       "-0WegMt6Cy966qlDKhu6jA                     0.0                     0.0   \n",
       "...                                        ...                     ...   \n",
       "zxsktAMsVBKj2PvvCV11UQ                     0.0                     0.0   \n",
       "zyPGYeXF4XKCqNN1pjFWhg                     0.0                     0.0   \n",
       "zyw5DjrRks7a8OhmBsgCQQ                     0.0                     0.0   \n",
       "zzUj3ej4vm_DtvRxNvWDEw                     0.0                     0.0   \n",
       "zzwaS0xn1MVEPEf0hNLjew                     0.0                     0.0   \n",
       "\n",
       "user_id                 zyMB50UtmEuQf-1VUKxZxQ  zyebSPCZLUZHapi-dSHU5Q  \\\n",
       "business_id                                                              \n",
       "--FBCX-N37CMYDfs790Bnw                     0.0                     0.0   \n",
       "--cjBEbXMI2obtaRHNSFrA                     0.0                     0.0   \n",
       "-01XupAWZEXbdNbxNg5mEg                     0.0                     0.0   \n",
       "-0NrB58jqKqJfuUCDupcsw                     0.0                     0.0   \n",
       "-0WegMt6Cy966qlDKhu6jA                     0.0                     0.0   \n",
       "...                                        ...                     ...   \n",
       "zxsktAMsVBKj2PvvCV11UQ                     0.0                     0.0   \n",
       "zyPGYeXF4XKCqNN1pjFWhg                     0.0                     0.0   \n",
       "zyw5DjrRks7a8OhmBsgCQQ                     0.0                     0.0   \n",
       "zzUj3ej4vm_DtvRxNvWDEw                     0.0                     0.0   \n",
       "zzwaS0xn1MVEPEf0hNLjew                     0.0                     0.0   \n",
       "\n",
       "user_id                 zyh_AzbO1JNnhywem3hUPg  zz25_Dsf99KnwTpdl4-PDQ  \\\n",
       "business_id                                                              \n",
       "--FBCX-N37CMYDfs790Bnw                     0.0                     0.0   \n",
       "--cjBEbXMI2obtaRHNSFrA                     0.0                     0.0   \n",
       "-01XupAWZEXbdNbxNg5mEg                     0.0                     0.0   \n",
       "-0NrB58jqKqJfuUCDupcsw                     0.0                     0.0   \n",
       "-0WegMt6Cy966qlDKhu6jA                     0.0                     0.0   \n",
       "...                                        ...                     ...   \n",
       "zxsktAMsVBKj2PvvCV11UQ                     0.0                     0.0   \n",
       "zyPGYeXF4XKCqNN1pjFWhg                     0.0                     0.0   \n",
       "zyw5DjrRks7a8OhmBsgCQQ                     0.0                     0.0   \n",
       "zzUj3ej4vm_DtvRxNvWDEw                     0.0                     0.0   \n",
       "zzwaS0xn1MVEPEf0hNLjew                     0.0                     0.0   \n",
       "\n",
       "user_id                 zzmhLxcZ4XZQyz95c_KbOA  zzo--VpSQh8PpsGVeMC1dQ  \n",
       "business_id                                                             \n",
       "--FBCX-N37CMYDfs790Bnw                     0.0                     0.0  \n",
       "--cjBEbXMI2obtaRHNSFrA                     0.0                     0.0  \n",
       "-01XupAWZEXbdNbxNg5mEg                     0.0                     0.0  \n",
       "-0NrB58jqKqJfuUCDupcsw                     0.0                     0.0  \n",
       "-0WegMt6Cy966qlDKhu6jA                     0.0                     0.0  \n",
       "...                                        ...                     ...  \n",
       "zxsktAMsVBKj2PvvCV11UQ                     0.0                     0.0  \n",
       "zyPGYeXF4XKCqNN1pjFWhg                     0.0                     0.0  \n",
       "zyw5DjrRks7a8OhmBsgCQQ                     0.0                     0.0  \n",
       "zzUj3ej4vm_DtvRxNvWDEw                     0.0                     0.0  \n",
       "zzwaS0xn1MVEPEf0hNLjew                     0.0                     0.0  \n",
       "\n",
       "[5599 rows x 10421 columns]"
      ]
     },
     "execution_count": 114,
     "metadata": {},
     "output_type": "execute_result"
    }
   ],
   "source": [
    "revs"
   ]
  },
  {
   "cell_type": "code",
   "execution_count": null,
   "metadata": {},
   "outputs": [],
   "source": []
  },
  {
   "cell_type": "markdown",
   "metadata": {},
   "source": [
    "# CF K-NN model"
   ]
  },
  {
   "cell_type": "code",
   "execution_count": 110,
   "metadata": {},
   "outputs": [],
   "source": [
    "from sklearn.neighbors import NearestNeighbors"
   ]
  },
  {
   "cell_type": "code",
   "execution_count": 287,
   "metadata": {},
   "outputs": [
    {
     "data": {
      "text/plain": [
       "NearestNeighbors(algorithm='brute', metric='cosine', n_jobs=-1, n_neighbors=20)"
      ]
     },
     "execution_count": 287,
     "metadata": {},
     "output_type": "execute_result"
    }
   ],
   "source": [
    "# making model class\n",
    "knn = NearestNeighbors(metric='cosine', algorithm='brute', n_neighbors=20, n_jobs=-1)\n",
    "\n",
    "# fit the sparse matrix\n",
    "knn.fit(mat_revs)"
   ]
  },
  {
   "cell_type": "code",
   "execution_count": 276,
   "metadata": {},
   "outputs": [],
   "source": [
    "def make_recommendation(model, data,  nameMapper, matMapper, bizID, fav_bar, n_recommendations):\n",
    "    \n",
    "    #fit\n",
    "    model.fit(data)\n",
    "    \n",
    "    print(f\"You favorite bar is: {fav_bar}.\")\n",
    "    print(bizID[nameMapper[fav_bar]])\n",
    "    print('>'*10)\n",
    "    \n",
    "    bar_ID = nameMapper[fav_bar]\n",
    "    \n",
    "    print('Recommendation system starts to make inference')\n",
    "    print('......\\n')\n",
    "    distances, indices = model.kneighbors(data[matMapper[bar_ID]], n_neighbors = n_recommendations+1)\n",
    "    \n",
    "    raw_recommends = sorted(list(zip(indices.squeeze().tolist(), distances.squeeze().tolist())),\n",
    "                           key=lambda x:x[1])[:0:-1]\n",
    "    \n",
    "    #get reverse mappper\n",
    "    reverse_mapper = {v: k for k, v in matMapper.items()}\n",
    "    \n",
    "    #print recommendations\n",
    "    print(f'Recommendations for customers at {fav_bar}:')\n",
    "    for i, (idx, dist) in enumerate(raw_recommends):\n",
    "        match = bizID[reverse_mapper[idx]]\n",
    "        print(f'{i+1} : {match.name, dist}')\n",
    "        print(match)\n",
    "        print('='*20)"
   ]
  },
  {
   "cell_type": "code",
   "execution_count": 288,
   "metadata": {},
   "outputs": [
    {
     "name": "stdout",
     "output_type": "stream",
     "text": [
      "Tarbell's The Tavern\n"
     ]
    }
   ],
   "source": [
    "# np.random.seed(20)\n",
    "idx = revs.index[np.random.randint(revs.shape[0])]\n",
    "name = bizID[idx].name\n",
    "print(name)"
   ]
  },
  {
   "cell_type": "code",
   "execution_count": 289,
   "metadata": {},
   "outputs": [
    {
     "data": {
      "text/plain": [
       "Address: 3209 E Camelback Rd Phoenix AZ 85018\n",
       "Coordinate: (33.5091229429, -112.0126287829)\n",
       "Stars: 4.0\n",
       "Categories: Cocktail Bars, American (Traditional), Bars, Nightlife, Wine Bars, Lounges, American (New), Mexican, Restaurants"
      ]
     },
     "execution_count": 289,
     "metadata": {},
     "output_type": "execute_result"
    }
   ],
   "source": [
    "bizID[idx]"
   ]
  },
  {
   "cell_type": "code",
   "execution_count": 290,
   "metadata": {},
   "outputs": [
    {
     "name": "stdout",
     "output_type": "stream",
     "text": [
      "You favorite bar is: Tarbell's The Tavern.\n",
      "Address: 3209 E Camelback Rd Phoenix AZ 85018\n",
      "Coordinate: (33.5091229429, -112.0126287829)\n",
      "Stars: 4.0\n",
      "Categories: Cocktail Bars, American (Traditional), Bars, Nightlife, Wine Bars, Lounges, American (New), Mexican, Restaurants\n",
      ">>>>>>>>>>\n",
      "Recommendation system starts to make inference\n",
      "......\n",
      "\n",
      "Recommendations for customers at Tarbell's The Tavern:\n",
      "1 : ('Hillstone Restaurant', 0.8839822506321126)\n",
      "Address: 2650 E Camelback Rd Phoenix AZ 85016\n",
      "Coordinate: (33.5101434, -112.0243027)\n",
      "Stars: 4.0\n",
      "Categories: Nightlife, Restaurants, Sushi Bars, Jazz & Blues, Arts & Entertainment, Steakhouses, American (New)\n",
      "====================\n",
      "2 : ('Mora Italian', 0.8838927214306364)\n",
      "Address: 5651 N 7th St Phoenix AZ 85014\n",
      "Coordinate: (33.5198524, -112.064637)\n",
      "Stars: 4.0\n",
      "Categories: Bars, Nightlife, Pizza, Salad, Restaurants, Italian\n",
      "====================\n",
      "3 : ('CEDAR ROOM Fine Cigars & Lounge', 0.8821757045026125)\n",
      "Address: 20715 N Pima Rd, Ste F100 Scottsdale AZ 85255\n",
      "Coordinate: (33.6738829, -111.8881123)\n",
      "Stars: 5.0\n",
      "Categories: Shopping, Tobacco Shops, Bars, Nightlife, Lounges, Cocktail Bars\n",
      "====================\n",
      "4 : ('Nonna Urban Eatery', 0.880354505169867)\n",
      "Address: 7240 E Main St Scottsdale AZ 85251\n",
      "Coordinate: (33.4932738, -111.9249317)\n",
      "Stars: 4.5\n",
      "Categories: Bars, Latin American, Nightlife, Italian, Asian Fusion, Wine Bars, Restaurants, Japanese, Gastropubs, Tapas/Small Plates, French\n",
      "====================\n",
      "5 : ('Sushiholic', 0.8783147028262966)\n",
      "Address: 3957 E Camelback Rd Phoenix AZ 85018\n",
      "Coordinate: (33.5090124, -111.9958297)\n",
      "Stars: 4.5\n",
      "Categories: Tapas/Small Plates, Japanese, Sushi Bars, Restaurants\n",
      "====================\n",
      "6 : ('The Collins Small Batch Kitchen', 0.8751967545638273)\n",
      "Address: 3160 E Camelback Rd Phoenix AZ 85016\n",
      "Coordinate: (33.5113073, -112.0141675)\n",
      "Stars: 4.5\n",
      "Categories: American (Traditional), American (New), Nightlife, Restaurants, Bars, Tapas/Small Plates\n",
      "====================\n",
      "7 : ('Taj Mahal', 0.874518145482085)\n",
      "Address: 4225 N Craftsman Ct Scottsdale AZ 85251\n",
      "Coordinate: (33.4970635, -111.9275168)\n",
      "Stars: 4.0\n",
      "Categories: Restaurants, Indian, Bars, Wine Bars, Vegetarian, Nightlife\n",
      "====================\n",
      "8 : ('Hana Japanese Eatery', 0.8713002598175499)\n",
      "Address: 5524 N 7th Ave Phoenix AZ 85013\n",
      "Coordinate: (33.5173704626, -112.0828243311)\n",
      "Stars: 4.0\n",
      "Categories: Sushi Bars, Restaurants, Japanese\n",
      "====================\n",
      "9 : ('Steak 44', 0.8658611481030395)\n",
      "Address: 5101 N 44th St Phoenix AZ 85018\n",
      "Coordinate: (33.5114708111, -111.9860756349)\n",
      "Stars: 4.5\n",
      "Categories: Seafood, Steakhouses, Restaurants, Nightlife, Wine Bars, Bars\n",
      "====================\n",
      "10 : ('Tratto', 0.8519834484763551)\n",
      "Address: 4743 N 20th St Phoenix AZ 85016\n",
      "Coordinate: (33.5073088828, -112.037357774)\n",
      "Stars: 4.0\n",
      "Categories: Nightlife, Desserts, Cocktail Bars, Bars, Italian, Restaurants, Pizza, Food\n",
      "====================\n"
     ]
    }
   ],
   "source": [
    "make_recommendation(\n",
    "    model = knn, \n",
    "    data = mat_revs, \n",
    "    nameMapper = nameMapper, \n",
    "    matMapper = matMapper,\n",
    "    bizID = bizID, \n",
    "    fav_bar = name, \n",
    "    n_recommendations = 10)"
   ]
  },
  {
   "cell_type": "code",
   "execution_count": null,
   "metadata": {},
   "outputs": [],
   "source": []
  },
  {
   "cell_type": "code",
   "execution_count": null,
   "metadata": {},
   "outputs": [],
   "source": []
  },
  {
   "cell_type": "code",
   "execution_count": null,
   "metadata": {},
   "outputs": [],
   "source": []
  },
  {
   "cell_type": "code",
   "execution_count": null,
   "metadata": {},
   "outputs": [],
   "source": []
  },
  {
   "cell_type": "code",
   "execution_count": 83,
   "metadata": {},
   "outputs": [],
   "source": [
    "df.reset_index(drop=True, inplace = True)"
   ]
  },
  {
   "cell_type": "code",
   "execution_count": 21,
   "metadata": {},
   "outputs": [
    {
     "data": {
      "text/plain": [
       "13588"
      ]
     },
     "execution_count": 21,
     "metadata": {},
     "output_type": "execute_result"
    }
   ],
   "source": [
    "df.user_id.nunique()"
   ]
  },
  {
   "cell_type": "code",
   "execution_count": 22,
   "metadata": {},
   "outputs": [
    {
     "data": {
      "text/plain": [
       "13033"
      ]
     },
     "execution_count": 22,
     "metadata": {},
     "output_type": "execute_result"
    }
   ],
   "source": [
    "df.business_id.nunique()"
   ]
  },
  {
   "cell_type": "code",
   "execution_count": 45,
   "metadata": {},
   "outputs": [],
   "source": [
    "df = df.set_index('business_id').drop_duplicates(subset)"
   ]
  },
  {
   "cell_type": "code",
   "execution_count": 64,
   "metadata": {},
   "outputs": [
    {
     "data": {
      "text/plain": [
       "0"
      ]
     },
     "execution_count": 64,
     "metadata": {},
     "output_type": "execute_result"
    }
   ],
   "source": [
    "(df.user_id.value_counts() < 10).sum()"
   ]
  },
  {
   "cell_type": "code",
   "execution_count": 68,
   "metadata": {},
   "outputs": [],
   "source": [
    "df['business_id'] = df.index"
   ]
  },
  {
   "cell_type": "code",
   "execution_count": 76,
   "metadata": {},
   "outputs": [
    {
     "data": {
      "text/plain": [
       "5904"
      ]
     },
     "execution_count": 76,
     "metadata": {},
     "output_type": "execute_result"
    }
   ],
   "source": [
    "(df.drop_duplicates(subset=['business_id', 'user_id'], keep='last').business_id.value_counts() > 10).sum()"
   ]
  },
  {
   "cell_type": "code",
   "execution_count": null,
   "metadata": {},
   "outputs": [],
   "source": []
  },
  {
   "cell_type": "code",
   "execution_count": 42,
   "metadata": {},
   "outputs": [
    {
     "data": {
      "text/plain": [
       "1666"
      ]
     },
     "execution_count": 42,
     "metadata": {},
     "output_type": "execute_result"
    }
   ],
   "source": [
    "(df[df.duplicated(subset=['business_id', 'user_id'])].groupby(['user_id', 'business_id'])['stars'].count() > 1).sum()"
   ]
  },
  {
   "cell_type": "code",
   "execution_count": null,
   "metadata": {},
   "outputs": [],
   "source": []
  }
 ],
 "metadata": {
  "kernelspec": {
   "display_name": "Python 3",
   "language": "python",
   "name": "python3"
  },
  "language_info": {
   "codemirror_mode": {
    "name": "ipython",
    "version": 3
   },
   "file_extension": ".py",
   "mimetype": "text/x-python",
   "name": "python",
   "nbconvert_exporter": "python",
   "pygments_lexer": "ipython3",
   "version": "3.8.5"
  }
 },
 "nbformat": 4,
 "nbformat_minor": 4
}
